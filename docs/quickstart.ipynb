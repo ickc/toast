{
 "cells": [
  {
   "cell_type": "markdown",
   "metadata": {
    "toc-hr-collapsed": false
   },
   "source": [
    "# Quick Start\n",
    "\n",
    "Before going through the details of the TOAST data and processing models, the built-in operations for data simulation and analysis, and how to run larger workflows, it is useful to get a quick feel for the possibilities.  This notebook walks through some small examples.  Many of the details are discussed and explained in other parts of the documentation.\n"
   ]
  },
  {
   "cell_type": "code",
   "execution_count": null,
   "metadata": {},
   "outputs": [],
   "source": [
    "# Uncomment if using MPI\n",
    "#\n",
    "# import ipyparallel as ipp\n",
    "# cluster = ipp.Cluster(engines=\"mpi\", n=4)\n",
    "# client = cluster.start_and_connect_sync()\n",
    "# client.block = True\n",
    "# %autopx\n",
    "\n",
    "# Built-in modules\n",
    "import os\n",
    "import sys\n",
    "\n",
    "# External modules\n",
    "import toast\n",
    "import toast.ops\n",
    "import toast.widgets\n",
    "\n",
    "# Capture C++ output in the jupyter cells\n",
    "import wurlitzer\n",
    "%load_ext wurlitzer\n",
    "\n",
    "# Display inline plots\n",
    "%matplotlib inline\n",
    "\n",
    "# Load helper tools for the docs\n",
    "from toast_docs import create_outdir"
   ]
  },
  {
   "cell_type": "code",
   "execution_count": null,
   "metadata": {},
   "outputs": [],
   "source": [
    "# Get our MPI world rank to use later when only one process needs to do something,\n",
    "# like printing info or making a plot.\n",
    "comm, procs, rank = toast.get_world()\n",
    "print(f\"rank {rank} of {procs} processes in comm world {comm}\")"
   ]
  },
  {
   "cell_type": "markdown",
   "metadata": {},
   "source": [
    "## Ground Based Telescope\n",
    "\n",
    "Here we call a helper function that just simulates some data with different contributions to the the timestreams.  There are more examples of simulated ground-based observing (link) and simulating timestream components (link) within the documentation."
   ]
  },
  {
   "cell_type": "code",
   "execution_count": null,
   "metadata": {},
   "outputs": [],
   "source": [
    "if rank == 0:\n",
    "    help(toast)"
   ]
  },
  {
   "cell_type": "markdown",
   "metadata": {},
   "source": [
    "You can get the current TOAST runtime configuration from the \"Environment\" class."
   ]
  },
  {
   "cell_type": "code",
   "execution_count": null,
   "metadata": {},
   "outputs": [],
   "source": [
    "if rank == 0:\n",
    "    env = toast.Environment.get()\n",
    "    print(env)"
   ]
  },
  {
   "cell_type": "markdown",
   "metadata": {},
   "source": [
    "The logging level can be changed by either setting the `TOAST_LOGLEVEL` environment variable to one of the supported levels (`VERBOSE`, `DEBUG`, `INFO`, `WARNING`, `ERROR`, `CRITICAL`) or by using the `set_log_level()` method of the `Environment` class.  The maximum number of threads is controlled by the standard `OMP_NUM_THREADS` environment variable."
   ]
  }
 ],
 "metadata": {
  "kernelspec": {
   "display_name": "Python 3 (ipykernel)",
   "language": "python",
   "name": "python3"
  },
  "language_info": {
   "codemirror_mode": {
    "name": "ipython",
    "version": 3
   },
   "file_extension": ".py",
   "mimetype": "text/x-python",
   "name": "python",
   "nbconvert_exporter": "python",
   "pygments_lexer": "ipython3",
   "version": "3.10.0"
  }
 },
 "nbformat": 4,
 "nbformat_minor": 4
}
